{
 "cells": [
  {
   "cell_type": "code",
   "execution_count": 7,
   "metadata": {},
   "outputs": [
    {
     "name": "stdout",
     "output_type": "stream",
     "text": [
      "The autoreload extension is already loaded. To reload it, use:\n",
      "  %reload_ext autoreload\n"
     ]
    },
    {
     "ename": "BadChromosome",
     "evalue": "<class 'gp.chromosome.Bunker'> must have only Infantry children",
     "output_type": "error",
     "traceback": [
      "\u001b[0;31m---------------------------------------------------------------------------\u001b[0m",
      "\u001b[0;31mBadChromosome\u001b[0m                             Traceback (most recent call last)",
      "Cell \u001b[0;32mIn [7], line 10\u001b[0m\n\u001b[1;32m      5\u001b[0m \u001b[38;5;28;01mimport\u001b[39;00m \u001b[38;5;21;01mgp\u001b[39;00m\n\u001b[1;32m      6\u001b[0m \u001b[38;5;28;01mfrom\u001b[39;00m \u001b[38;5;21;01mgp\u001b[39;00m\u001b[38;5;21;01m.\u001b[39;00m\u001b[38;5;21;01mrectangle\u001b[39;00m \u001b[38;5;28;01mimport\u001b[39;00m Rectangle\n\u001b[1;32m      8\u001b[0m gene \u001b[38;5;241m=\u001b[39m gp\u001b[38;5;241m.\u001b[39mQuadrant([\n\u001b[1;32m      9\u001b[0m     gp\u001b[38;5;241m.\u001b[39mQuadrant(\n\u001b[0;32m---> 10\u001b[0m         [\u001b[43mgp\u001b[49m\u001b[38;5;241;43m.\u001b[39;49m\u001b[43mBunker\u001b[49m\u001b[43m(\u001b[49m\n\u001b[1;32m     11\u001b[0m \u001b[43m            \u001b[49m\u001b[43m[\u001b[49m\u001b[43mgp\u001b[49m\u001b[38;5;241;43m.\u001b[39;49m\u001b[43mMarine\u001b[49m\u001b[43m(\u001b[49m\u001b[43m)\u001b[49m\u001b[43m,\u001b[49m\u001b[43m \u001b[49m\u001b[43mgp\u001b[49m\u001b[38;5;241;43m.\u001b[39;49m\u001b[43mMarine\u001b[49m\u001b[43m(\u001b[49m\u001b[43m)\u001b[49m\u001b[43m,\u001b[49m\u001b[43m \u001b[49m\u001b[43mgp\u001b[49m\u001b[38;5;241;43m.\u001b[39;49m\u001b[43mMarine\u001b[49m\u001b[43m(\u001b[49m\u001b[43m)\u001b[49m\u001b[43m,\u001b[49m\u001b[43m \u001b[49m\u001b[43mgp\u001b[49m\u001b[38;5;241;43m.\u001b[39;49m\u001b[43mMarine\u001b[49m\u001b[43m(\u001b[49m\u001b[43m)\u001b[49m\u001b[43m]\u001b[49m\n\u001b[1;32m     12\u001b[0m \u001b[43m        \u001b[49m\u001b[43m)\u001b[49m, gp\u001b[38;5;241m.\u001b[39mMarine(), gp\u001b[38;5;241m.\u001b[39mMarine(), gp\u001b[38;5;241m.\u001b[39mMarine()],\n\u001b[1;32m     13\u001b[0m     ),\n\u001b[1;32m     14\u001b[0m     gp\u001b[38;5;241m.\u001b[39mMarine(),\n\u001b[1;32m     15\u001b[0m     gp\u001b[38;5;241m.\u001b[39mMarauder(),\n\u001b[1;32m     16\u001b[0m     gp\u001b[38;5;241m.\u001b[39mSiegeTank()\n\u001b[1;32m     17\u001b[0m ])\n\u001b[1;32m     19\u001b[0m \u001b[38;5;66;03m# plot_gene(gene)\u001b[39;00m\n\u001b[1;32m     21\u001b[0m \u001b[38;5;28mprint\u001b[39m(gene)\n",
      "File \u001b[0;32m~/Projects/COMPX556/COMPX556/sc2_siege/gp/chromosome.py:92\u001b[0m, in \u001b[0;36mComposite.__init__\u001b[0;34m(self, children, parent)\u001b[0m\n\u001b[1;32m     90\u001b[0m     \u001b[39mself\u001b[39m\u001b[39m.\u001b[39mset_parent(parent)\n\u001b[1;32m     91\u001b[0m \u001b[39mif\u001b[39;00m children:\n\u001b[0;32m---> 92\u001b[0m     \u001b[39mself\u001b[39;49m\u001b[39m.\u001b[39;49mchildren \u001b[39m=\u001b[39m children\n",
      "File \u001b[0;32m~/Projects/COMPX556/COMPX556/sc2_siege/gp/chromosome.py:107\u001b[0m, in \u001b[0;36mComposite.children\u001b[0;34m(self, children)\u001b[0m\n\u001b[1;32m     98\u001b[0m \u001b[39m@children\u001b[39m\u001b[39m.\u001b[39msetter\n\u001b[1;32m     99\u001b[0m \u001b[39mdef\u001b[39;00m \u001b[39mchildren\u001b[39m(\u001b[39mself\u001b[39m, children: t\u001b[39m.\u001b[39mList[Gene]):\n\u001b[1;32m    100\u001b[0m     \u001b[39m# Bunker can have 2-4 children idk how to do this easily so we just yeetin the whole check\u001b[39;00m\n\u001b[0;32m   (...)\u001b[0m\n\u001b[1;32m    104\u001b[0m \n\u001b[1;32m    105\u001b[0m     \u001b[39m# Ensure that the child can be added to this gene\u001b[39;00m\n\u001b[1;32m    106\u001b[0m     \u001b[39mfor\u001b[39;00m child \u001b[39min\u001b[39;00m children:\n\u001b[0;32m--> 107\u001b[0m         \u001b[39mself\u001b[39;49m\u001b[39m.\u001b[39;49m_check_child(child)\n\u001b[1;32m    109\u001b[0m     \u001b[39m# Remove parent from old children\u001b[39;00m\n\u001b[1;32m    110\u001b[0m     \u001b[39mfor\u001b[39;00m child \u001b[39min\u001b[39;00m \u001b[39mself\u001b[39m\u001b[39m.\u001b[39m_children:\n",
      "File \u001b[0;32m~/Projects/COMPX556/COMPX556/sc2_siege/gp/chromosome.py:224\u001b[0m, in \u001b[0;36mBunker._check_child\u001b[0;34m(self, child)\u001b[0m\n\u001b[1;32m    222\u001b[0m \u001b[39mdef\u001b[39;00m \u001b[39m_check_child\u001b[39m(\u001b[39mself\u001b[39m, child: Gene):\n\u001b[1;32m    223\u001b[0m     \u001b[39mif\u001b[39;00m \u001b[39mnot\u001b[39;00m \u001b[39misinstance\u001b[39m(child, Infantry):\n\u001b[0;32m--> 224\u001b[0m         \u001b[39mraise\u001b[39;00m BadChromosome(\n\u001b[1;32m    225\u001b[0m             \u001b[39mf\u001b[39m\u001b[39m\"\u001b[39m\u001b[39m{\u001b[39;00m\u001b[39mtype\u001b[39m(\u001b[39mself\u001b[39m)\u001b[39m}\u001b[39;00m\u001b[39m must have only Infantry children\u001b[39m\u001b[39m\"\u001b[39m)\n\u001b[1;32m    226\u001b[0m     \u001b[39msuper\u001b[39m()\u001b[39m.\u001b[39m_check_child(child)\n",
      "\u001b[0;31mBadChromosome\u001b[0m: <class 'gp.chromosome.Bunker'> must have only Infantry children"
     ]
    }
   ],
   "source": [
    "%load_ext autoreload\n",
    "%autoreload 2\n",
    "\n",
    "from gp.plot_chromosome import plot_gene\n",
    "import gp\n",
    "from gp.rectangle import Rectangle\n",
    "\n",
    "gene = gp.Quadrant([\n",
    "    gp.Quadrant(\n",
    "        [gp.Quadrant(\n",
    "            [gp.Marine(), gp.Marine(), gp.Marine(), gp.Marine()]\n",
    "        ), gp.Marine(), gp.Marine(), gp.Marine()],\n",
    "    ),\n",
    "    gp.Marine(),\n",
    "    gp.Marauder(),\n",
    "    gp.SiegeTank()\n",
    "])\n",
    "\n",
    "# plot_gene(gene)\n",
    "\n",
    "print(gene)\n",
    "print(gp.compile_string(str(gene)))"
   ]
  }
 ],
 "metadata": {
  "kernelspec": {
   "display_name": "Python 3.9.13 ('SC2Siege')",
   "language": "python",
   "name": "python3"
  },
  "language_info": {
   "codemirror_mode": {
    "name": "ipython",
    "version": 3
   },
   "file_extension": ".py",
   "mimetype": "text/x-python",
   "name": "python",
   "nbconvert_exporter": "python",
   "pygments_lexer": "ipython3",
   "version": "3.9.13"
  },
  "orig_nbformat": 4,
  "vscode": {
   "interpreter": {
    "hash": "60c0dffcd404852b9813a7fc75b41c5fe3656dae14d3fc01eaa0efb2736b2c35"
   }
  }
 },
 "nbformat": 4,
 "nbformat_minor": 2
}
